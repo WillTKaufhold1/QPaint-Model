{
 "cells": [
  {
   "cell_type": "code",
   "execution_count": 282,
   "metadata": {},
   "outputs": [],
   "source": [
    "import numpy as np\n",
    "import pandas as pd\n",
    "import matplotlib.pyplot as plt\n",
    "%matplotlib inline"
   ]
  },
  {
   "cell_type": "code",
   "execution_count": 306,
   "metadata": {},
   "outputs": [],
   "source": [
    "#here, I am interested in the set of stochastic trajectories of a process\n",
    "#the process is BRIGHT <-> OPEN <-> CLOSED. I am interested in the distribution of p(t_dark),\n",
    "#where the OPEN and CLOSED configurations are dark. \n",
    "\n",
    "def get_t_wait(state = 0, k = [1,1,1,1]):\n",
    "    #return the expected waiting time of the next event. K is the total rate constant\n",
    "    if state == 0: #i.e. if closed\n",
    "        K = k[1]\n",
    "    elif state == 1: #i.e. if S1 open but not bound to imager\n",
    "        K = k[0] + k[2]\n",
    "    elif state == 2: #i.e. imager bound\n",
    "        K = k[3]\n",
    "    \n",
    "    return 1/float(K) * np.log(1/np.random.rand()) \n",
    "\n",
    "def get_event(state = 0, k = [1,1,1,1]):\n",
    "    #return the next state visited \n",
    "    if state == 0:\n",
    "        return 1\n",
    "    elif state == 1:\n",
    "        p_val = [k[0], k[2]]\n",
    "        p_val_normed = np.array(p_val) / np.sum(p_val)\n",
    "        return np.random.choice([0,2], p = p_val_normed)\n",
    "    elif state == 2:\n",
    "        return 1\n",
    "        \n",
    "def get_trajectory(k, current_state, N): \n",
    "    t_jump = np.zeros(N,dtype=float)\n",
    "    states = np.ones(N,dtype=float) * -1 \n",
    "\n",
    "    for i in range(N):\n",
    "\n",
    "        t_wait = get_t_wait(state = current_state, k = k)\n",
    "        new_state = get_event(state = current_state, k = k)\n",
    "\n",
    "        t_jump[i] = t_wait\n",
    "        states[i] = new_state\n",
    "\n",
    "        current_state = new_state\n",
    "    \n",
    "    t_val = np.cumsum(t_jump)\n",
    "    \n",
    "    return t_val, t_jump, states"
   ]
  },
  {
   "cell_type": "code",
   "execution_count": 307,
   "metadata": {},
   "outputs": [],
   "source": [
    "def get_dark_time_distribution(k,N):\n",
    "\n",
    "    t_val, t_jump, states = get_trajectory(k, 0, int(N))\n",
    "    bright_index = np.where(states == 2)[0]\n",
    "    dark_times_bounds = zip(bright_index[:-1],bright_index[1:])\n",
    "    dark_times_vals = [np.sum(t_jump[i+1:j]) for i,j in dark_times_bounds]\n",
    "    dark_times_vals.sort()\n",
    "    \n",
    "    return {'dark_times':dark_times_vals, 'p_vals' : np.linspace(0,1,len(dark_times_vals))}"
   ]
  },
  {
   "cell_type": "code",
   "execution_count": null,
   "metadata": {},
   "outputs": [],
   "source": [
    "t_vals = [(1000.,1000.,2.,100.), (1e5,0.001,2.,100.), (100.,100.,2.,100.), (1000.,100.,2.,100.), (1000,10.,2.,100.), (10.,10.,2.,100.)]\n",
    "\n",
    "#t_vals are just 1/k vals for each of the processes\n",
    "#these processese are given by\n",
    "#(S1 OPEN -> CLOSED, CLOSED -> S1 OPEN, S1 OPEN -> BOUND, BOUND -> S1 OPEN) \n",
    "\n",
    "cols = ['r','b','c','k','y']\n",
    "res_dict = {}\n",
    "N = 1e7\n",
    "for t,c in zip(t_vals, cols):\n",
    "    k = 1/np.array(t)\n",
    "    res_dict[t] = get_dark_time_distribution(k, N)\n",
    "    res_dict[t]['c'] = c\n",
    "\n",
    "\n",
    "from matplotlib import rc\n",
    "rc('font',**{'family':'serif','sans-serif':['Times New Roman']})\n",
    "rc('text', usetex=False)\n",
    "\n",
    "f, ax = plt.subplots(1,1,figsize = (4,4))\n",
    "for i in res_dict:\n",
    "    sim = res_dict[i]\n",
    "    plt.plot(sim['dark_times'], sim['p_vals'], color = sim['c'],label = i)\n",
    "    print 'for the system where the k_vals are given by %s, the mean dark time is %s s'%(i, np.mean(sim['dark_times']))\n",
    "f.patch.set_facecolor('white')\n",
    "ax.set_xlim(0,300)\n",
    "\n",
    "ax.set_xlabel('dark time (s)')\n",
    "ax.set_ylabel('cumulative probabiltiy')\n",
    "\n",
    "plt.legend()"
   ]
  },
  {
   "cell_type": "code",
   "execution_count": 305,
   "metadata": {},
   "outputs": [
    {
     "name": "stdout",
     "output_type": "stream",
     "text": [
      "(1000, 10.0, 100.0, 100.0) 110.13068377515344\n",
      "(10.0, 10.0, 100.0, 100.0) 289.02657887389273\n"
     ]
    },
    {
     "data": {
      "text/plain": [
       "<matplotlib.legend.Legend at 0x7f22a4fe7190>"
      ]
     },
     "execution_count": 305,
     "metadata": {},
     "output_type": "execute_result"
    },
    {
     "data": {
      "image/png": "[encoded data removed]",
      "text/plain": [
       "<Figure size 288x288 with 1 Axes>"
      ]
     },
     "metadata": {},
     "output_type": "display_data"
    }
   ],
   "source": [
    "\n",
    "t_vals = [(1000,10.,100.,100.), (10.,10.,100.,100.)]\n",
    "\n",
    "#t_vals are just 1/k vals for each of the processes\n",
    "#these are the time values for each of the processes:\n",
    "#(S2 OPEN -> CLOSED, CLOSED -> S1 OPEN, S1 OPEN -> BOUND, BOUND -> S1 OPEN) respectively\n",
    "\n",
    "cols = ['r','b','c','k','y']\n",
    "res_dict = {}\n",
    "N = 1e7\n",
    "for t,c in zip(t_vals, cols):\n",
    "    k = 1/np.array(t)\n",
    "    res_dict[t] = get_dark_time_distribution(k, N)\n",
    "    res_dict[t]['c'] = c\n",
    "\n",
    "\n",
    "from matplotlib import rc\n",
    "rc('font',**{'family':'serif','sans-serif':['Times New Roman']})\n",
    "rc('text', usetex=False)\n",
    "\n",
    "f, ax = plt.subplots(1,1,figsize = (4,4))\n",
    "\n",
    "\n",
    "for i in res_dict:\n",
    "    sim = res_dict[i]\n",
    "    plt.plot(sim['dark_times'], sim['p_vals'], color = sim['c'],label = i)\n",
    "    print i, np.mean(sim['dark_times'])\n",
    "f.patch.set_facecolor('white')\n",
    "ax.set_xlim(0,300)\n",
    "\n",
    "plt.legend()"
   ]
  },
  {
   "cell_type": "code",
   "execution_count": null,
   "metadata": {},
   "outputs": [],
   "source": []
  }
 ],
 "metadata": {
  "kernelspec": {
   "display_name": "Python 2",
   "language": "python",
   "name": "python2"
  },
  "language_info": {
   "codemirror_mode": {
    "name": "ipython",
    "version": 2
   },
   "file_extension": ".py",
   "mimetype": "text/x-python",
   "name": "python",
   "nbconvert_exporter": "python",
   "pygments_lexer": "ipython2",
   "version": "2.7.15"
  }
 },
 "nbformat": 4,
 "nbformat_minor": 2
}
